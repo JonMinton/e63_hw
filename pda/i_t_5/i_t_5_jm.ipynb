{
 "cells": [
  {
   "attachments": {},
   "cell_type": "markdown",
   "metadata": {},
   "source": [
    "# Introduction\n",
    "\n",
    "**Jon Minton. E63**\n",
    "\n",
    "This document addresses the task listed in I.T.5\n",
    "\n",
    "The task as as described below:\n",
    "\n",
    "## Problem\n",
    "\n",
    "Demonstrate the use of a list in a program. Include in your screenshot(s):\n",
    "\n",
    "- A list in a program\n",
    "- A function (that you’ve created) that uses the list\n",
    "- The result of the function running\n",
    "\n",
    " \n",
    "\n",
    "Submit a comment explaining your understanding of:\n",
    "\n",
    "- The use of lists in programs\n",
    "- The code you’ve submitted\n",
    "\n",
    " \n",
    "\n",
    "Remember:\n",
    "\n",
    "- Show all relevant and referenced code in your screenshots\n",
    "- Use original work that is your own (i.e. no start/end code handed out as course materials (unless PDA specific), copied from the internet, or submitted by another student)\n",
    "- Reattach all files on any resubmission\n",
    "- Do NOT reuse examples from another submission\n"
   ]
  },
  {
   "attachments": {},
   "cell_type": "markdown",
   "metadata": {},
   "source": [
    "## Solution\n",
    "\n",
    "The following is python code which addresses the problem as described above:"
   ]
  },
  {
   "cell_type": "code",
   "execution_count": 1,
   "metadata": {},
   "outputs": [
    {
     "name": "stdout",
     "output_type": "stream",
     "text": [
      "['A', 52, True, False, 23.8]\n"
     ]
    }
   ],
   "source": [
    "# The line below this creates a list called 'my_list'. The elements of the list are not all of the same type, with the first being a string,\n",
    "# the second an integer, the third and forth being Boolean values, and the last element being a float value. \n",
    "my_list = [\"A\", 52, True, False, 23.8]\n",
    "\n",
    "\n",
    "# The contents of the list can be printed as follows:\n",
    "\n",
    "print(my_list)\n"
   ]
  },
  {
   "cell_type": "code",
   "execution_count": 2,
   "metadata": {},
   "outputs": [
    {
     "data": {
      "text/plain": [
       "5"
      ]
     },
     "execution_count": 2,
     "metadata": {},
     "output_type": "execute_result"
    }
   ],
   "source": [
    "# The code below creates a simple function, called get_length(). This function returns the length of the list.\n",
    "\n",
    "def get_length(lst):\n",
    "    return len(lst)\n",
    "\n",
    "# The code below shows the result of applying the get_length() function to the my_list list object\n",
    "\n",
    "get_length(my_list)\n",
    "\n"
   ]
  },
  {
   "cell_type": "code",
   "execution_count": 3,
   "metadata": {},
   "outputs": [
    {
     "name": "stdout",
     "output_type": "stream",
     "text": [
      "5\n"
     ]
    }
   ],
   "source": [
    "# The function returns the length of the list object passed to it. As the print function is not called, no output is \n",
    "# returned to the user. \n",
    "# Instead, the function's output can be saved to a new object, and that object can be printed. \n",
    "\n",
    "length_of_my_list = get_length(my_list)\n",
    "\n",
    "print(length_of_my_list)"
   ]
  },
  {
   "cell_type": "code",
   "execution_count": 4,
   "metadata": {},
   "outputs": [
    {
     "name": "stdout",
     "output_type": "stream",
     "text": [
      "<class 'int'>\n"
     ]
    }
   ],
   "source": [
    "# This confirms that the function has returned the value '5' which is the length of the list (i.e. the number of elements)\n",
    "# it contains. \n",
    "\n",
    "# The type of the return value is not explicitly declared, but implicitly cast as of type integer. This can be confirmed as \n",
    "# follows:\n",
    "\n",
    "print(type(length_of_my_list))"
   ]
  }
 ],
 "metadata": {
  "kernelspec": {
   "display_name": "Python 3",
   "language": "python",
   "name": "python3"
  },
  "language_info": {
   "codemirror_mode": {
    "name": "ipython",
    "version": 3
   },
   "file_extension": ".py",
   "mimetype": "text/x-python",
   "name": "python",
   "nbconvert_exporter": "python",
   "pygments_lexer": "ipython3",
   "version": "3.10.9"
  },
  "orig_nbformat": 4
 },
 "nbformat": 4,
 "nbformat_minor": 2
}
