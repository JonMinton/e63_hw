{
 "cells": [
  {
   "attachments": {},
   "cell_type": "markdown",
   "metadata": {},
   "source": [
    "# Introduction\n",
    "\n",
    "**Jon Minton. E63**\n",
    "\n",
    "This document addresses the task listed in I.T.6\n",
    "\n",
    "The task as as described below:\n",
    "\n",
    "## Problem\n",
    "\n",
    "Demonstrate the use of a dictionary in a program. Include in your screenshot(s):\n",
    "\n",
    "-A dictionary in a program\n",
    "-A function (that you’ve created) that uses the dictionary\n",
    "-The result of the function running\n",
    "\n",
    "Submit a comment explaining your understanding of:\n",
    "\n",
    "-The use of dictionaries in programs\n",
    "-The code you’ve submitted"
   ]
  },
  {
   "attachments": {},
   "cell_type": "markdown",
   "metadata": {},
   "source": [
    "## Solution\n",
    "\n",
    "The following is python code which addresses the problem as described above:"
   ]
  },
  {
   "cell_type": "code",
   "execution_count": 2,
   "metadata": {},
   "outputs": [
    {
     "name": "stdout",
     "output_type": "stream",
     "text": [
      "{'A': 5, 'B': 3, 'C': 1}\n",
      "dict_keys(['A', 'B', 'C'])\n",
      "dict_values([5, 3, 1])\n"
     ]
    }
   ],
   "source": [
    "# The following creates a dictionary:\n",
    "\n",
    "my_dictionary = {\"A\": 5, \"B\": 3, \"C\": 1}\n",
    "\n",
    "# A dictionary is created above by wrapping a series of key-value pairs inside the curly braces { ... }\n",
    "\n",
    "# The dictionary above comprises three key value pairs. \n",
    "# a key-value pair is specified in the form {key : value}, with the key appearing before the colon and \n",
    "# the value appearing after the colon. \n",
    "# key-value pairs are separated using the comma symbol. Trailing commas are allowed:\n",
    "{\"A\": 5, \"B\": 3, \"C\":1, }\n",
    "# Keys must be unique within a directory to allow values to be uniquely identified.\n",
    "# (If two or more identical keys are given then only the last key is stored in the directory)\n",
    "{\"A\":}\n",
    "# The contents of the dictionary can be shown by printing:\n",
    "\n",
    "print(my_dictionary)\n",
    "\n"
   ]
  },
  {
   "cell_type": "code",
   "execution_count": 3,
   "metadata": {},
   "outputs": [
    {
     "name": "stdout",
     "output_type": "stream",
     "text": [
      "dict_keys(['A', 'B', 'C'])\n"
     ]
    }
   ],
   "source": [
    "# The keys and values of the dictionary can be accessed and printed as follows:\n",
    "\n",
    "print(my_dictionary.keys())"
   ]
  },
  {
   "cell_type": "code",
   "execution_count": 4,
   "metadata": {},
   "outputs": [
    {
     "name": "stdout",
     "output_type": "stream",
     "text": [
      "dict_values([5, 3, 1])\n"
     ]
    }
   ],
   "source": [
    "print(my_dictionary.values())"
   ]
  },
  {
   "cell_type": "code",
   "execution_count": 5,
   "metadata": {},
   "outputs": [
    {
     "data": {
      "text/plain": [
       "dict_keys(['A', 'B', 'C'])"
      ]
     },
     "execution_count": 5,
     "metadata": {},
     "output_type": "execute_result"
    }
   ],
   "source": [
    "# .keys() and .values() are both methods of dictionary objects\n",
    "\n",
    "# The following is a user-defined function which returns the keys in a single dictionary object \n",
    "\n",
    "def get_dictionary_keys(dct):\n",
    "    return dct.keys()\n",
    "\n",
    "# The function takes as input a dictionary object called dct and returns its keys.\n",
    "\n",
    "# The following shows the result of my_dictionary being passed to the above function:\n",
    "\n",
    "get_dictionary_keys(my_dictionary)"
   ]
  },
  {
   "cell_type": "code",
   "execution_count": 6,
   "metadata": {},
   "outputs": [
    {
     "name": "stdout",
     "output_type": "stream",
     "text": [
      "dict_keys(['A', 'B', 'C'])\n"
     ]
    }
   ],
   "source": [
    "# The output of the function can also be saved to a new object which can then be printed explicitly\n",
    "\n",
    "the_keys_of_my_dictionary = get_dictionary_keys(my_dictionary)\n",
    "\n",
    "print(the_keys_of_my_dictionary)"
   ]
  }
 ],
 "metadata": {
  "kernelspec": {
   "display_name": "Python 3",
   "language": "python",
   "name": "python3"
  },
  "language_info": {
   "codemirror_mode": {
    "name": "ipython",
    "version": 3
   },
   "file_extension": ".py",
   "mimetype": "text/x-python",
   "name": "python",
   "nbconvert_exporter": "python",
   "pygments_lexer": "ipython3",
   "version": "3.10.9"
  },
  "orig_nbformat": 4
 },
 "nbformat": 4,
 "nbformat_minor": 2
}
