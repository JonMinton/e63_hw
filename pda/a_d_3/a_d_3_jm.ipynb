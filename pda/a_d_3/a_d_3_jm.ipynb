{
 "cells": [
  {
   "attachments": {},
   "cell_type": "markdown",
   "metadata": {},
   "source": [
    "# Introduction\n",
    "\n",
    "**Jon Minton. E63**\n",
    "\n",
    "This document addresses the task listed in A.D.3"
   ]
  },
  {
   "attachments": {},
   "cell_type": "markdown",
   "metadata": {},
   "source": [
    "## Problem\n",
    "\n",
    "Include in your screenshot:\n",
    "\n",
    "- An object diagram\n",
    "\n",
    "\n",
    "The object diagram must contain:\n",
    "\n",
    "- At least two objects contained in rectangles with the title of the class at the top (capitalised). This should also have the specific object title (e.g. for a class titled \"Member\", the object diagram would be titled \"Alex: Member\")\n",
    "- At least one attribute for each object with values indicated (e.g. “name: Alex”, “age: 32”)\n",
    "- Lines or \"relationships\" to indicate the structure of the objects and how they interact with each other. Types of relationships, such as many-to-many, do not need to be indicated at this level\n",
    "\n",
    " \n",
    "\n",
    "Submit a comment explaining your understanding of:\n",
    "\n",
    "- The object diagram you’ve submitted and its use\n",
    "- Design decisions made when producing the diagram\n",
    "\n",
    " \n",
    "\n",
    "Remember:\n",
    "\n",
    "- Attach examples as image files or screenshots\n",
    "- Use original work that is your own (i.e. no examples handed out as course materials (unless PDA specific), copied from the internet, or submitted by another student)\n",
    "- Reattach all files on any resubmission\n",
    "- Do NOT reuse examples from another submission"
   ]
  },
  {
   "attachments": {},
   "cell_type": "markdown",
   "metadata": {},
   "source": [
    "## Solution\n",
    "\n",
    "The figure below shows three objects, `first_entry`, `second_entry` and `jblog` of two classes, `Entry` and `Blog`. \n",
    "The objects `first_entry` and `second_entry` are instances of the class `Entry`, and the object `jblog` is an instance of class Blog. \n",
    "\n",
    "The object `jblog` contains within it the objects `first_entry` and `second_entry` in its field `entries`. The links between these objects are shown with lines. The position of objects does not matter.\n",
    "\n",
    "![Three objects from two classes](../out/a_d_3/three_objects/three_objects_of_two_classes.png)\n",
    "\n",
    "The two blog entries are created as instances of the same `Entry` class because they can be expected to contain the same types of attribute/field, even though their contents can be expected to be different. \n",
    "Although only one instance of the `Blog` class exists, `jblog`, other objects of this class could also exist, and will be expected to have the same kinds of attribute/field. An important design decision is that instances of the `Blog` class accept instances of the `Entry` class. \n",
    "\n",
    "Both the `Entry` and `Blog` class may be expected to contain relevant class-specific methods, although these are not shown here. \n",
    "For example, and `Entry` class object might be expected to have `.create()`, `.edit()` and `.delete()` methods, and the `Blog` class may be expected to have `.add_entry()`, `.delete_entry()` and `.count_total_views()` methods, the last of which might iterate through the `times_viewed` attribute of each entry in the `entries` list attribute. \n",
    "\n"
   ]
  },
  {
   "attachments": {},
   "cell_type": "markdown",
   "metadata": {},
   "source": [
    "## Appendix\n",
    "\n",
    "The following shows the PlantUML code used to generate the figure above"
   ]
  },
  {
   "cell_type": "raw",
   "metadata": {},
   "source": [
    "@startuml three_objects_of_two_classes\n",
    "\n",
    "object \"jblog: Blog\" as jblog\n",
    "object \"first_entry : Entry\" as first_entry\n",
    "object \"second_entry : Entry\" as second_entry\n",
    "\n",
    "object first_entry {\n",
    "    name: \"My first blog entry\"\n",
    "    date_created: \"10 April 2019\"\n",
    "    contents: \"Hello. This is my first blog entry\"\n",
    "    times_viewed: 24\n",
    "}\n",
    "\n",
    "object second_entry {\n",
    "    name: \"My second blog entry\"\n",
    "    date_created: \"4 January 2022\"\n",
    "    contents: \"Hi. This is my second entry.\"\n",
    "    times_viewed: 4\n",
    "}\n",
    "object jblog {\n",
    "    name: \"Jon's Blog\"\n",
    "    date_created: \"6 April 2019\"\n",
    "    first_entry: \"10 April 2019\"\n",
    "    last_entry: \"4 January 2022\"\n",
    "    entries: [first_entry, second_entry]\n",
    "\n",
    "}\n",
    "\n",
    "first_entry -- jblog\n",
    "second_entry -- jblog\n",
    "\n",
    "@enduml\n"
   ]
  }
 ],
 "metadata": {
  "language_info": {
   "name": "python"
  },
  "orig_nbformat": 4
 },
 "nbformat": 4,
 "nbformat_minor": 2
}
