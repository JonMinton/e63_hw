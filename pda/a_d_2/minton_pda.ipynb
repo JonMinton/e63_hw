{
 "cells": [
  {
   "attachments": {},
   "cell_type": "markdown",
   "metadata": {},
   "source": [
    " A.D.2 - Class Diagram\n",
    "Due Sunday by 17:59 Points 0 Submitting a file upload\n",
    "Include in your screenshot:\n",
    "\n",
    "*A class diagram\n",
    "\n",
    " \n",
    "\n",
    "The class diagram must contain:\n",
    "\n",
    "*At least two classes contained in rectangles with the title of the class at the top (capitalised)\n",
    "\n",
    "*At least one attribute for each class with types indicated (e.g. “name: string”, “age: int”)\n",
    "\n",
    "*Any methods that each class has\n",
    "\n",
    "*Lines or \"relationships\" to indicate the structure of the classes and how they interact with each other. Types of relationships, such as many-to-many, do not need to be indicated at this level\n",
    "\n",
    " \n",
    "\n",
    "Submit a comment explaining your understanding of:\n",
    "\n",
    "*The class diagram you’ve submitted and its use\n",
    "\n",
    "*Design decisions made when producing the diagram\n",
    "\n",
    " \n",
    "\n",
    "Remember:\n",
    "\n",
    "*Attach examples as image files or screenshots\n",
    "\n",
    "*Use original work that is your own (i.e. no examples handed out as course materials (unless PDA specific), copied from the internet, or submitted by another student)\n",
    "\n",
    "*Reattach all files on any resubmission\n",
    "\n",
    "*Do NOT reuse examples from another submission"
   ]
  },
  {
   "cell_type": "code",
   "execution_count": null,
   "metadata": {
    "vscode": {
     "languageId": "plaintext"
    }
   },
   "outputs": [],
   "source": []
  },
  {
   "cell_type": "code",
   "execution_count": null,
   "metadata": {
    "vscode": {
     "languageId": "plaintext"
    }
   },
   "outputs": [],
   "source": [
    "@startuml\n",
    "class Hen {\n",
    "    name: str\n",
    "    breed : str\n",
    "    age : flt\n",
    "    hunger: flt\n",
    "    thirst: flt\n",
    "    eggs_laid: int\n",
    "    eat()\n",
    "    poop()\n",
    "    cluck()\n",
    "    lay_egg()\n",
    "}\n",
    "\n",
    "class Hutch {\n",
    "    name: str\n",
    "    dimensions: [x : flt, y : flt, z : flt]\n",
    "    capacity: int\n",
    "    hens = []\n",
    "    add_hen(<Hen>)\n",
    "    remove_hen(<Hen>)\n",
    "    calc_floorspace()\n",
    "    calc_volume()\n",
    "}\n",
    "\n",
    "Hen --- Hutch\n",
    "@enduml"
   ]
  }
 ],
 "metadata": {
  "language_info": {
   "name": "python"
  },
  "orig_nbformat": 4
 },
 "nbformat": 4,
 "nbformat_minor": 2
}
