{
 "cells": [
  {
   "attachments": {},
   "cell_type": "markdown",
   "metadata": {},
   "source": [
    "# Introduction\n",
    "\n",
    "**Jon Minton. E63**\n",
    "\n",
    "This document addresses the task listed in A.D.2\n",
    "\n",
    "## Problem\n",
    "\n",
    "The task is as described below:\n",
    "\n",
    "Include in your screenshot:\n",
    "\n",
    "- A class diagram \n",
    "\n",
    "The class diagram must contain:\n",
    "\n",
    "- At least two classes contained in rectangles with the title of the class at the top (capitalised)\n",
    "- At least one attribute for each class with types indicated (e.g. “name: string”, “age: int”)\n",
    "- Any methods that each class has\n",
    "- Lines or \"relationships\" to indicate the structure of the classes and how they interact with each other. Types of relationships, such as many-to-many, do not need to be indicated at this level\n",
    "\n",
    "\n",
    "Submit a comment explaining your understanding of:\n",
    "\n",
    "- The class diagram you’ve submitted and its use\n",
    "- Design decisions made when producing the diagram\n",
    "\n",
    "Remember:\n",
    "\n",
    "- Attach examples as image files or screenshots\n",
    "- Use original work that is your own (i.e. no examples handed out as course materials (unless PDA specific), copied from the internet, or submitted by another student)\n",
    "- Reattach all files on any resubmission\n",
    "- Do NOT reuse examples from another submission"
   ]
  },
  {
   "cell_type": "markdown",
   "metadata": {
    "vscode": {
     "languageId": "plaintext"
    }
   },
   "source": [
    "## Solution\n",
    "\n",
    "The following image is a class diagram meeting the requirements of the problem:"
   ]
  },
  {
   "attachments": {},
   "cell_type": "markdown",
   "metadata": {},
   "source": [
    "![A Hutch and Hen Class Diagram](../out/a_d_2/test/two_classes.png)"
   ]
  },
  {
   "attachments": {},
   "cell_type": "markdown",
   "metadata": {},
   "source": [
    "## Description of class diagram and design decisions\n",
    "\n",
    "The class diagram has two classes, `Hen` and `Hutch`. \n",
    "\n",
    "The Hen class has the following attributes and methods:\n",
    "\n",
    "- Attributes:\n",
    "    - name\n",
    "    - breed\n",
    "    - age\n",
    "    - thirst\n",
    "    - eggs_laid\n",
    "- Methods:\n",
    "    - eat()\n",
    "    - poop()\n",
    "    - cluck()\n",
    "    - lay_egg()\n",
    "\n",
    "The types of the attributes in the Hen class are indicated in the class diagram. The attributes name and breed are of type string, age and thirst are floats, and eggs_laid is an integer as only discrete whole numbers of eggs can be laid. \n",
    "\n",
    "The methods do not take any arguments. When the lay_egg() method is called the eggs_laid field will be incremented by 1. \n",
    "\n",
    "The Hutch class has the following attributes and methods:\n",
    "\n",
    "- Attributes:\n",
    "    - name\n",
    "    - dimensions\n",
    "    - capacity\n",
    "    - hens\n",
    "    - feed\n",
    "    - water\n",
    "- Methods:\n",
    "    - add_hen()\n",
    "    - remove_hen()\n",
    "    - calc_floorspace()\n",
    "    - calc_volume()\n",
    "\n",
    "The types of the attributes in the `Hutch` class are indicated in the class diagram. The attribute `name` is a string. The `dimensions` attribute accept three float values to provide the width, depth and height of the hutch object created. Capacity is an integer and indicates the number of hens the hutch can include. \n",
    "\n",
    "The methods `add_hen()` and `remove_hen()` add to and remove an element from the `hens` list. Each element in the `hens` list is intended to be an object of class `Hen`. The `add_hen()` method should not accept a new hen if the hutch is already at capacity (i.e. the length of the `hens` list is equal to the `capacity`), and the `remove_hen()` method should do nothing if the hen proposed as an argument is not in the `hens` list. The methods `calc_volume()` and `calc_floorspace()` both make use of the contents of the `dimensions` attribute, though the `calc_floorspace()` method only makes use of two of the three elements within dimensions (i.e. its depth and width, but not its height). \n",
    "\n",
    "The two classes are related to the extent that the `hens` attribute of the Hutch class is intended to receive objects of class `Hen`. A line is shown between the two classes to indicate this relationship. n.b. the direction of the line and relative position of the two classes are **not** intended to indicate a hierarchical relationship between the two classes. (i.e. neither class inherits from the other class.)\n",
    "\n",
    "\n",
    "Another way in which the classes could also be related would be to reduce the amount of feed in the hutch when a hen inside the hutch feeds. The `add_hen()` method of `Hutch` could also have additional conditions, such as only allowing hens of a single breed to enter. A method for updating the capacity based on the type of breed (with some expected to be larger than others) could also be added to the Hutch class.  \n",
    "\n"
   ]
  },
  {
   "cell_type": "markdown",
   "metadata": {},
   "source": [
    "## Appendix\n",
    "\n",
    "The following shows the PUML code used to generate the class diagram."
   ]
  },
  {
   "cell_type": "raw",
   "metadata": {
    "vscode": {
     "languageId": "plaintext"
    }
   },
   "source": [
    "@startuml\n",
    "class Hen {\n",
    "    name: str\n",
    "    breed : str\n",
    "    age : flt\n",
    "    hunger: flt\n",
    "    thirst: flt\n",
    "    eggs_laid: int\n",
    "    eat()\n",
    "    poop()\n",
    "    cluck()\n",
    "    lay_egg()\n",
    "}\n",
    "\n",
    "class Hutch {\n",
    "    name: str\n",
    "    dimensions: [x : flt, y : flt, z : flt]\n",
    "    capacity: int\n",
    "    hens = []\n",
    "    add_hen(<Hen>)\n",
    "    remove_hen(<Hen>)\n",
    "    calc_floorspace()\n",
    "    calc_volume()\n",
    "}\n",
    "\n",
    "Hen --- Hutch;\n",
    "@enduml"
   ]
  }
 ],
 "metadata": {
  "language_info": {
   "name": "python"
  },
  "orig_nbformat": 4
 },
 "nbformat": 4,
 "nbformat_minor": 2
}
